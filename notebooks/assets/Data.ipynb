{
 "cells": [
  {
   "cell_type": "markdown",
   "id": "0279037d-3d76-4ed9-9d82-df6e9d17337b",
   "metadata": {},
   "source": [
    "You probably have to force this to run once a week or something and push the file."
   ]
  },
  {
   "cell_type": "code",
   "execution_count": 1,
   "id": "d53d1914-072f-4f8a-88bb-dd001eaafac6",
   "metadata": {
    "editable": true,
    "slideshow": {
     "slide_type": ""
    },
    "tags": []
   },
   "outputs": [
    {
     "ename": "NameError",
     "evalue": "name 'service_account_info' is not defined",
     "output_type": "error",
     "traceback": [
      "\u001b[0;31m---------------------------------------------------------------------------\u001b[0m",
      "\u001b[0;31mNameError\u001b[0m                                 Traceback (most recent call last)",
      "Cell \u001b[0;32mIn[1], line 97\u001b[0m\n\u001b[1;32m     94\u001b[0m output_filename \u001b[38;5;241m=\u001b[39m \u001b[38;5;124m'\u001b[39m\u001b[38;5;124mtickers.parq\u001b[39m\u001b[38;5;124m'\u001b[39m\n\u001b[1;32m     95\u001b[0m download_url \u001b[38;5;241m=\u001b[39m \u001b[38;5;124m\"\u001b[39m\u001b[38;5;124mgs://sovai-accounting/dataframes/tickers.parq\u001b[39m\u001b[38;5;124m\"\u001b[39m\n\u001b[0;32m---> 97\u001b[0m save_or_update_tickers(output_directory, output_filename, download_url, \u001b[43mservice_account_info\u001b[49m)\n",
      "\u001b[0;31mNameError\u001b[0m: name 'service_account_info' is not defined"
     ]
    }
   ],
   "source": [
    "import pandas as pd\n",
    "\n",
    "\n",
    "import pandas as pd\n",
    "import os\n",
    "from datetime import datetime, timedelta\n",
    "\n",
    "import os\n",
    "import pandas as pd\n",
    "from datetime import datetime, timedelta\n",
    "\n",
    "def classify_etf_active(category):\n",
    "    if category is None:\n",
    "        return \"Active\"  # or any other default value you see fit\n",
    "    return \"Passive\" if \"ETF\" in category else \"Active\"\n",
    "\n",
    "def classify_foreign_domestic(category):\n",
    "    if category is None:\n",
    "        return \"Domestic\"  # or any other default value you see fit\n",
    "    return \"Foreign\" if \"ADR\" in category or \"Canadian\" in category else \"Domestic\"\n",
    "\n",
    "def classify_stock_type(category):\n",
    "    if category is None:\n",
    "        return None  # or any other default value you see fit\n",
    "    if \"Common Stock\" in category:\n",
    "        return \"Common Stock\"\n",
    "    elif \"CEF\" in category:\n",
    "        return \"Closed-End Fund\"\n",
    "    elif \"ETF\" in category:\n",
    "        return \"Exchange-Traded Fund\"\n",
    "    elif \"ETN\" in category:\n",
    "        return \"Exchange-Traded Note\"\n",
    "    elif \"UNIT\" in category:\n",
    "        return None\n",
    "\n",
    "def rename_tickers(tickers_meta):\n",
    "    rename_dict = {\n",
    "        '3 - Small': 'small',\n",
    "        '2 - Micro': 'micro',\n",
    "        '4 - Mid': 'medium',\n",
    "        '5 - Large': 'large',\n",
    "        '1 - Nano': 'nano',\n",
    "        '6 - Mega': 'mega'\n",
    "    }\n",
    "    tickers_meta['scalemarketcap'] = tickers_meta['scalemarketcap'].replace(rename_dict)\n",
    "    return tickers_meta\n",
    "\n",
    "def save_or_update_tickers(output_directory, output_filename, download_url, service_account_info):\n",
    "    # Create the directory if it doesn't exist\n",
    "    os.makedirs(output_directory, exist_ok=True)\n",
    "\n",
    "    # Full path for the output file\n",
    "    output_path = os.path.join(output_directory, output_filename)\n",
    "\n",
    "    # Check if the file exists\n",
    "    file_exists = os.path.exists(output_path)\n",
    "    file_is_recent = False\n",
    "\n",
    "    # If file exists, check if it's older than 7 days\n",
    "    if file_exists:\n",
    "        file_age = datetime.now() - datetime.fromtimestamp(os.path.getmtime(output_path))\n",
    "        file_is_recent = file_age < timedelta(days=7)\n",
    "\n",
    "    # If the file does not exist or is older than 7 days, download it\n",
    "    if not file_exists or not file_is_recent:\n",
    "        print(\"Downloading and saving new file.\")\n",
    "        tickers_meta = pd.read_parquet(download_url)\n",
    "        \n",
    "        # Classify tickers\n",
    "        tickers_meta[\"active\"] = tickers_meta[\"category\"].apply(classify_etf_active)\n",
    "        tickers_meta[\"foreign\"] = tickers_meta[\"category\"].apply(classify_foreign_domestic)\n",
    "        tickers_meta[\"class\"] = tickers_meta[\"category\"].apply(classify_stock_type)\n",
    "        \n",
    "        # Remove rows where 'ticker' is None\n",
    "        tickers_meta = tickers_meta.dropna(subset=['ticker']).drop_duplicates([\"ticker\"]).dropna(subset=[\"ticker\"])\n",
    "\n",
    "        # Rename tickers\n",
    "        tickers_meta = rename_tickers(tickers_meta)\n",
    "\n",
    "        print(tickers_meta[[\"scalemarketcap\"]].head())\n",
    "        \n",
    "        tickers_meta.to_parquet(output_path)\n",
    "        print(output_path)\n",
    "    else:\n",
    "        print(output_path)\n",
    "        print(\"File is up-to-date, no need to download.\")\n",
    "\n",
    "# Example usage\n",
    "# save_or_update_tickers('output_directory', 'output_filename.parquet', 'download_url', 'service_account_info')\n",
    "\n",
    "\n",
    "# Example usage\n",
    "output_directory = '../../sovai/assets/'\n",
    "output_filename = 'tickers.parq'\n",
    "download_url = \"gs://sovai-accounting/dataframes/tickers.parq\"\n",
    "\n",
    "save_or_update_tickers(output_directory, output_filename, download_url, service_account_info)\n"
   ]
  },
  {
   "cell_type": "code",
   "execution_count": 1,
   "id": "e8b1deb7-fda7-4b19-a6fd-686a3a9e1063",
   "metadata": {},
   "outputs": [],
   "source": [
    "import os \n",
    "output_directory = 'data'\n",
    "output_filename = \"features_mapping.parq\"\n",
    "output_path = os.path.join(output_directory, output_filename)\n"
   ]
  },
  {
   "cell_type": "code",
   "execution_count": 2,
   "id": "9c00fd74-523f-4f26-9925-1859330a8673",
   "metadata": {},
   "outputs": [
    {
     "data": {
      "text/plain": [
       "'data/features_mapping.parq'"
      ]
     },
     "execution_count": 2,
     "metadata": {},
     "output_type": "execute_result"
    }
   ],
   "source": [
    "output_path"
   ]
  },
  {
   "cell_type": "code",
   "execution_count": 3,
   "id": "c4d87165-738e-4731-b67f-0857e9472686",
   "metadata": {},
   "outputs": [],
   "source": [
    "import pandas as pd\n",
    "featies = pd.read_csv(\"https://docs.google.com/spreadsheets/d/e/2PACX-1vTjJfxQIOXMbW4iExhqjb3T8iygPKmfSNoAvrhu7v8L2txFUCoASZq9iW7ITbpnHaHk-5I3qHzrnX8M/pub?gid=0&single=true&output=csv\")\n",
    "featies.to_parquet(output_path)\n"
   ]
  },
  {
   "cell_type": "code",
   "execution_count": null,
   "id": "8a928fa9-e552-4dfc-b328-c8dcde46840b",
   "metadata": {},
   "outputs": [],
   "source": []
  }
 ],
 "metadata": {
  "kernelspec": {
   "display_name": "Python 3 (ipykernel)",
   "language": "python",
   "name": "python3"
  },
  "language_info": {
   "codemirror_mode": {
    "name": "ipython",
    "version": 3
   },
   "file_extension": ".py",
   "mimetype": "text/x-python",
   "name": "python",
   "nbconvert_exporter": "python",
   "pygments_lexer": "ipython3",
   "version": "3.11.7"
  }
 },
 "nbformat": 4,
 "nbformat_minor": 5
}
