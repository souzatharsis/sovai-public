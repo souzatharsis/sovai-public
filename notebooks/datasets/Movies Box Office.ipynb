{
 "cells": [
  {
   "cell_type": "code",
   "execution_count": null,
   "id": "3bbaa829",
   "metadata": {},
   "outputs": [],
   "source": [
    "!pip install sovai[full]"
   ]
  },
  {
   "cell_type": "markdown",
   "metadata": {},
   "source": [
    "## Box Office Movies"
   ]
  },
  {
   "cell_type": "code",
   "execution_count": 1,
   "metadata": {},
   "outputs": [],
   "source": [
    "import sovai as sov\n",
    "sov.token_auth(token=\"visit https://sov.ai/profile for your token\")"
   ]
  },
  {
   "cell_type": "markdown",
   "metadata": {},
   "source": [
    "#### Processed Dataset"
   ]
  },
  {
   "cell_type": "code",
   "execution_count": 3,
   "metadata": {},
   "outputs": [],
   "source": [
    "df_movies = sov.data(\"movies/boxoffice\")"
   ]
  },
  {
   "cell_type": "code",
   "execution_count": 4,
   "metadata": {
    "scrolled": true
   },
   "outputs": [
    {
     "data": {
      "text/html": [
       "<div>\n",
       "<style scoped>\n",
       "    .dataframe tbody tr th:only-of-type {\n",
       "        vertical-align: middle;\n",
       "    }\n",
       "\n",
       "    .dataframe tbody tr th {\n",
       "        vertical-align: top;\n",
       "    }\n",
       "\n",
       "    .dataframe thead th {\n",
       "        text-align: right;\n",
       "    }\n",
       "</style>\n",
       "<table border=\"1\" class=\"dataframe\">\n",
       "  <thead>\n",
       "    <tr style=\"text-align: right;\">\n",
       "      <th></th>\n",
       "      <th>ticker</th>\n",
       "      <th>date</th>\n",
       "      <th>title</th>\n",
       "      <th>distributor</th>\n",
       "      <th>gross</th>\n",
       "      <th>percent_yd</th>\n",
       "      <th>percent_lw</th>\n",
       "      <th>theaters</th>\n",
       "      <th>per_theater</th>\n",
       "      <th>total_gross</th>\n",
       "      <th>days_in_release</th>\n",
       "      <th>parent company</th>\n",
       "      <th>distributor address</th>\n",
       "      <th>distributorwebsite</th>\n",
       "      <th>release_date</th>\n",
       "    </tr>\n",
       "  </thead>\n",
       "  <tbody>\n",
       "    <tr>\n",
       "      <th>191061</th>\n",
       "      <td>WBD</td>\n",
       "      <td>1997-07-01</td>\n",
       "      <td>Head Above Water</td>\n",
       "      <td>Fine Line</td>\n",
       "      <td>1588</td>\n",
       "      <td>-0.130</td>\n",
       "      <td>0.000</td>\n",
       "      <td>10.000</td>\n",
       "      <td>159.000</td>\n",
       "      <td>20425</td>\n",
       "      <td>7</td>\n",
       "      <td>Warner Bros. Discovery</td>\n",
       "      <td>Burbank, California, United States</td>\n",
       "      <td>None</td>\n",
       "      <td>1997-06-24</td>\n",
       "    </tr>\n",
       "    <tr>\n",
       "      <th>8352</th>\n",
       "      <td>CMCSA</td>\n",
       "      <td>1997-07-01</td>\n",
       "      <td>The Lost World: Jurassic …</td>\n",
       "      <td>Universal</td>\n",
       "      <td>681480</td>\n",
       "      <td>-0.100</td>\n",
       "      <td>-0.350</td>\n",
       "      <td>2607.000</td>\n",
       "      <td>261.000</td>\n",
       "      <td>214658249</td>\n",
       "      <td>40</td>\n",
       "      <td>Comcast Corporation</td>\n",
       "      <td>10 Universal City Plaza, Universal City, Calif...</td>\n",
       "      <td>https://www.universalpictures.com///</td>\n",
       "      <td>1997-05-22</td>\n",
       "    </tr>\n",
       "    <tr>\n",
       "      <th>165452</th>\n",
       "      <td>SONY</td>\n",
       "      <td>1997-07-01</td>\n",
       "      <td>My Best Friend's Wedding</td>\n",
       "      <td>Sony Pictures</td>\n",
       "      <td>2320386</td>\n",
       "      <td>0.010</td>\n",
       "      <td>-0.310</td>\n",
       "      <td>2134.000</td>\n",
       "      <td>1087.000</td>\n",
       "      <td>53842818</td>\n",
       "      <td>12</td>\n",
       "      <td>Sony Corporation</td>\n",
       "      <td>10202 West Washington Boulevard, Culver City, ...</td>\n",
       "      <td>https://www.sonypictures.com/</td>\n",
       "      <td>1997-06-19</td>\n",
       "    </tr>\n",
       "    <tr>\n",
       "      <th>165451</th>\n",
       "      <td>SONY</td>\n",
       "      <td>1997-07-01</td>\n",
       "      <td>Men in Black</td>\n",
       "      <td>Sony Pictures</td>\n",
       "      <td>4815427</td>\n",
       "      <td>0.000</td>\n",
       "      <td>0.000</td>\n",
       "      <td>0.000</td>\n",
       "      <td>0.000</td>\n",
       "      <td>4815427</td>\n",
       "      <td>0</td>\n",
       "      <td>Sony Corporation</td>\n",
       "      <td>10202 West Washington Boulevard, Culver City, ...</td>\n",
       "      <td>https://www.sonypictures.com/</td>\n",
       "      <td>1997-07-01</td>\n",
       "    </tr>\n",
       "    <tr>\n",
       "      <th>165450</th>\n",
       "      <td>SONY</td>\n",
       "      <td>1997-07-01</td>\n",
       "      <td>The Fifth Element</td>\n",
       "      <td>Sony Pictures</td>\n",
       "      <td>42025</td>\n",
       "      <td>-0.320</td>\n",
       "      <td>-0.710</td>\n",
       "      <td>662.000</td>\n",
       "      <td>63.000</td>\n",
       "      <td>60756457</td>\n",
       "      <td>54</td>\n",
       "      <td>Sony Corporation</td>\n",
       "      <td>10202 West Washington Boulevard, Culver City, ...</td>\n",
       "      <td>https://www.sonypictures.com/</td>\n",
       "      <td>1997-05-08</td>\n",
       "    </tr>\n",
       "    <tr>\n",
       "      <th>...</th>\n",
       "      <td>...</td>\n",
       "      <td>...</td>\n",
       "      <td>...</td>\n",
       "      <td>...</td>\n",
       "      <td>...</td>\n",
       "      <td>...</td>\n",
       "      <td>...</td>\n",
       "      <td>...</td>\n",
       "      <td>...</td>\n",
       "      <td>...</td>\n",
       "      <td>...</td>\n",
       "      <td>...</td>\n",
       "      <td>...</td>\n",
       "      <td>...</td>\n",
       "      <td>...</td>\n",
       "    </tr>\n",
       "    <tr>\n",
       "      <th>162739</th>\n",
       "      <td>Private</td>\n",
       "      <td>2024-08-11</td>\n",
       "      <td>Cuckoo</td>\n",
       "      <td>Neon</td>\n",
       "      <td>712500</td>\n",
       "      <td>-0.250</td>\n",
       "      <td>0.000</td>\n",
       "      <td>1503.000</td>\n",
       "      <td>474.000</td>\n",
       "      <td>3012500</td>\n",
       "      <td>3</td>\n",
       "      <td>30WEST</td>\n",
       "      <td>New York City, New York, U.S.</td>\n",
       "      <td>http://neonrated.com/</td>\n",
       "      <td>2024-08-08</td>\n",
       "    </tr>\n",
       "    <tr>\n",
       "      <th>162735</th>\n",
       "      <td>Private</td>\n",
       "      <td>2024-08-11</td>\n",
       "      <td>Sing Sing</td>\n",
       "      <td>A24</td>\n",
       "      <td>57004</td>\n",
       "      <td>-0.200</td>\n",
       "      <td>0.940</td>\n",
       "      <td>39.000</td>\n",
       "      <td>1462.000</td>\n",
       "      <td>821862</td>\n",
       "      <td>31</td>\n",
       "      <td>A24</td>\n",
       "      <td>31 West 27th Street, New York City, New York, ...</td>\n",
       "      <td>http://www.a24films.com/</td>\n",
       "      <td>2024-07-11</td>\n",
       "    </tr>\n",
       "    <tr>\n",
       "      <th>162736</th>\n",
       "      <td>Private</td>\n",
       "      <td>2024-08-11</td>\n",
       "      <td>Longlegs</td>\n",
       "      <td>Neon</td>\n",
       "      <td>590000</td>\n",
       "      <td>-0.250</td>\n",
       "      <td>-0.510</td>\n",
       "      <td>1310.000</td>\n",
       "      <td>450.000</td>\n",
       "      <td>71251907</td>\n",
       "      <td>31</td>\n",
       "      <td>30WEST</td>\n",
       "      <td>New York City, New York, U.S.</td>\n",
       "      <td>http://neonrated.com/</td>\n",
       "      <td>2024-07-11</td>\n",
       "    </tr>\n",
       "    <tr>\n",
       "      <th>64311</th>\n",
       "      <td>DIS</td>\n",
       "      <td>2024-08-11</td>\n",
       "      <td>Kingdom of the Planet of …</td>\n",
       "      <td>20th Century…</td>\n",
       "      <td>10000</td>\n",
       "      <td>-0.470</td>\n",
       "      <td>-0.270</td>\n",
       "      <td>20.000</td>\n",
       "      <td>500.000</td>\n",
       "      <td>171096048</td>\n",
       "      <td>94</td>\n",
       "      <td>The Walt Disney Company</td>\n",
       "      <td>10201 Pico Blvd, Los Angeles, California</td>\n",
       "      <td>https://www.20thcenturystudios.com/</td>\n",
       "      <td>2024-05-09</td>\n",
       "    </tr>\n",
       "    <tr>\n",
       "      <th>85960</th>\n",
       "      <td>LGF.A</td>\n",
       "      <td>2024-08-11</td>\n",
       "      <td>Borderlands</td>\n",
       "      <td>Lionsgate</td>\n",
       "      <td>2050000</td>\n",
       "      <td>-0.250</td>\n",
       "      <td>0.000</td>\n",
       "      <td>3125.000</td>\n",
       "      <td>656.000</td>\n",
       "      <td>8800000</td>\n",
       "      <td>3</td>\n",
       "      <td>Lionsgate</td>\n",
       "      <td>Santa Monica, California, U.S.</td>\n",
       "      <td>http://www.lionsgate.com/</td>\n",
       "      <td>2024-08-08</td>\n",
       "    </tr>\n",
       "  </tbody>\n",
       "</table>\n",
       "<p>229297 rows × 15 columns</p>\n",
       "</div>"
      ],
      "text/plain": [
       "         ticker       date                       title    distributor  \\\n",
       "191061      WBD 1997-07-01            Head Above Water      Fine Line   \n",
       "8352      CMCSA 1997-07-01  The Lost World: Jurassic …      Universal   \n",
       "165452     SONY 1997-07-01    My Best Friend's Wedding  Sony Pictures   \n",
       "165451     SONY 1997-07-01                Men in Black  Sony Pictures   \n",
       "165450     SONY 1997-07-01           The Fifth Element  Sony Pictures   \n",
       "...         ...        ...                         ...            ...   \n",
       "162739  Private 2024-08-11                      Cuckoo           Neon   \n",
       "162735  Private 2024-08-11                   Sing Sing            A24   \n",
       "162736  Private 2024-08-11                    Longlegs           Neon   \n",
       "64311       DIS 2024-08-11  Kingdom of the Planet of …  20th Century…   \n",
       "85960     LGF.A 2024-08-11                 Borderlands      Lionsgate   \n",
       "\n",
       "          gross  percent_yd  percent_lw  theaters  per_theater  total_gross  \\\n",
       "191061     1588      -0.130       0.000    10.000      159.000        20425   \n",
       "8352     681480      -0.100      -0.350  2607.000      261.000    214658249   \n",
       "165452  2320386       0.010      -0.310  2134.000     1087.000     53842818   \n",
       "165451  4815427       0.000       0.000     0.000        0.000      4815427   \n",
       "165450    42025      -0.320      -0.710   662.000       63.000     60756457   \n",
       "...         ...         ...         ...       ...          ...          ...   \n",
       "162739   712500      -0.250       0.000  1503.000      474.000      3012500   \n",
       "162735    57004      -0.200       0.940    39.000     1462.000       821862   \n",
       "162736   590000      -0.250      -0.510  1310.000      450.000     71251907   \n",
       "64311     10000      -0.470      -0.270    20.000      500.000    171096048   \n",
       "85960   2050000      -0.250       0.000  3125.000      656.000      8800000   \n",
       "\n",
       "        days_in_release           parent company  \\\n",
       "191061                7   Warner Bros. Discovery   \n",
       "8352                 40      Comcast Corporation   \n",
       "165452               12         Sony Corporation   \n",
       "165451                0         Sony Corporation   \n",
       "165450               54         Sony Corporation   \n",
       "...                 ...                      ...   \n",
       "162739                3                   30WEST   \n",
       "162735               31                      A24   \n",
       "162736               31                   30WEST   \n",
       "64311                94  The Walt Disney Company   \n",
       "85960                 3                Lionsgate   \n",
       "\n",
       "                                      distributor address  \\\n",
       "191061                 Burbank, California, United States   \n",
       "8352    10 Universal City Plaza, Universal City, Calif...   \n",
       "165452  10202 West Washington Boulevard, Culver City, ...   \n",
       "165451  10202 West Washington Boulevard, Culver City, ...   \n",
       "165450  10202 West Washington Boulevard, Culver City, ...   \n",
       "...                                                   ...   \n",
       "162739                      New York City, New York, U.S.   \n",
       "162735  31 West 27th Street, New York City, New York, ...   \n",
       "162736                      New York City, New York, U.S.   \n",
       "64311            10201 Pico Blvd, Los Angeles, California   \n",
       "85960                      Santa Monica, California, U.S.   \n",
       "\n",
       "                          distributorwebsite release_date  \n",
       "191061                                  None   1997-06-24  \n",
       "8352    https://www.universalpictures.com///   1997-05-22  \n",
       "165452         https://www.sonypictures.com/   1997-06-19  \n",
       "165451         https://www.sonypictures.com/   1997-07-01  \n",
       "165450         https://www.sonypictures.com/   1997-05-08  \n",
       "...                                      ...          ...  \n",
       "162739                 http://neonrated.com/   2024-08-08  \n",
       "162735              http://www.a24films.com/   2024-07-11  \n",
       "162736                 http://neonrated.com/   2024-07-11  \n",
       "64311    https://www.20thcenturystudios.com/   2024-05-09  \n",
       "85960              http://www.lionsgate.com/   2024-08-08  \n",
       "\n",
       "[229297 rows x 15 columns]"
      ]
     },
     "execution_count": 4,
     "metadata": {},
     "output_type": "execute_result"
    }
   ],
   "source": [
    "df_movies.sort_values(\"date\")"
   ]
  },
  {
   "cell_type": "code",
   "execution_count": 13,
   "metadata": {},
   "outputs": [
    {
     "data": {
      "application/vnd.plotly.v1+json": {
       "config": {
        "plotlyServerURL": "https://plot.ly"
       },
       "data": [
        {
         "colorbar": {
          "title": {
           "text": "Gross"
          }
         },
         "colorscale": [
          [
           0,
           "#440154"
          ],
          [
           0.1111111111111111,
           "#482878"
          ],
          [
           0.2222222222222222,
           "#3e4989"
          ],
          [
           0.3333333333333333,
           "#31688e"
          ],
          [
           0.4444444444444444,
           "#26828e"
          ],
          [
           0.5555555555555556,
           "#1f9e89"
          ],
          [
           0.6666666666666666,
           "#35b779"
          ],
          [
           0.7777777777777778,
           "#6ece58"
          ],
          [
           0.8888888888888888,
           "#b5de2b"
          ],
          [
           1,
           "#fde725"
          ]
         ],
         "hovertemplate": "Ticker: %{y}<br>Year: %{x}<br>Gross: $%{z:.2f}M<extra></extra>",
         "type": "heatmap",
         "x": [
          1997,
          1998,
          1999,
          2000,
          2001,
          2002,
          2003,
          2004,
          2005,
          2006,
          2007,
          2008,
          2009,
          2010,
          2011,
          2012,
          2013,
          2014,
          2015,
          2016,
          2017,
          2018,
          2019,
          2020,
          2021,
          2022,
          2023,
          2024
         ],
         "y": [
          "WBD",
          "CMCSA",
          "SONY",
          "PARA",
          "DIS",
          "LGF.A",
          "Private",
          "AMZN",
          "EMWPF",
          "AMCX",
          "6758",
          "NYSE",
          "RGC",
          "SNE",
          "SIE"
         ],
         "z": [
          [
           491584161,
           1069516246,
           1286004980,
           1135188955,
           1663353554,
           1783503907,
           1937375715,
           1466760745,
           1716109309,
           1147205869,
           1736938476,
           1810333272,
           2122003326,
           1949639763,
           1863503250,
           1698546176,
           1859337944,
           1572924463,
           1620211109,
           1970743102,
           2093701003,
           1958904213,
           1612048058,
           155172206,
           321611969,
           978196794,
           1419216172,
           805626291
          ],
          [
           146557511,
           328464645,
           919614998,
           1027965393,
           968442333,
           803197149,
           998210763,
           821363865,
           919030307,
           728274968,
           1022278055,
           1051842802,
           890313621,
           885189003,
           1166730233,
           1344934999,
           1666010840,
           1153384372,
           2507782302,
           1461251362,
           1560059220,
           1816525006,
           1328753177,
           405772661,
           666668006,
           1578020502,
           1821852954,
           1076100620
          ],
          [
           669444565,
           597416804,
           551356930,
           598333934,
           630236119,
           1485872753,
           1083669964,
           1235598258,
           829525453,
           1592081642,
           1153528593,
           1233158950,
           1416821278,
           1277591128,
           1269460860,
           1547046368,
           1105581653,
           1336327111,
           994901096,
           947898534,
           1104631983,
           1324207348,
           1390614868,
           483795698,
           1129152584,
           882479370,
           1014072473,
           641724899
          ],
          [
           570012099,
           1293957780,
           1020987586,
           1089083273,
           1330873064,
           849835797,
           1109709732,
           882366347,
           1064657690,
           919449446,
           1599895862,
           1711960162,
           1609314973,
           1846622275,
           2038966841,
           1015009479,
           1039374886,
           1086389988,
           759970935,
           892489535,
           548602578,
           816379251,
           580206157,
           184092257,
           282367688,
           1333965376,
           871447708,
           421188863
          ],
          [
           219047590,
           636846175,
           740577901,
           659790665,
           765049042,
           906362694,
           698228143,
           834893716,
           1297966747,
           1335800542,
           1016666391,
           1013845667,
           1398698702,
           1487043520,
           985164468,
           1033936501,
           1082708961,
           1826726308,
           1325164944,
           1510432964,
           1357880698,
           1114546358,
           483730493,
           168823006,
           249073818,
           663689272,
           438769000,
           242303073
          ],
          [
           7421055,
           9713801,
           199471496,
           63063376,
           21594946,
           42055000,
           46851500,
           249440443,
           235764413,
           287769572,
           325089589,
           644057721,
           898977630,
           1066781297,
           625776122,
           1307582157,
           1094509883,
           759553399,
           652501818,
           674616633,
           951758941,
           408862510,
           828011811,
           80466166,
           104644569,
           86557583,
           553518590,
           159128380
          ],
          [
           13804360,
           8654560,
           25469622,
           44343207,
           7278785,
           4046719,
           153180,
           3708480,
           102727726,
           133380502,
           109770538,
           117382902,
           187353327,
           67356326,
           512784424,
           642898264,
           938143986,
           636191586,
           506913960,
           409148322,
           460555385,
           376418875,
           239408140,
           125778640,
           97241472,
           216544730,
           387563933,
           267813700
          ],
          [
           119405202,
           162809333,
           287150915,
           80307876,
           402101279,
           302072047,
           304529446,
           146242296,
           88384276,
           141378999,
           220284165,
           95568229,
           21898284,
           50270352,
           0,
           0,
           0,
           0,
           2570882,
           82149,
           0,
           167777647,
           26225952,
           0,
           0,
           0,
           41562178,
           96567106
          ],
          [
           0,
           0,
           0,
           0,
           0,
           0,
           0,
           0,
           0,
           0,
           0,
           0,
           0,
           0,
           0,
           0,
           0,
           0,
           64027887,
           198389898,
           209467004,
           272458897,
           333102752,
           51016697,
           1312024,
           0,
           0,
           0
          ],
          [
           0,
           0,
           0,
           0,
           0,
           174303876,
           440000,
           70042,
           130347,
           638333,
           90492,
           52937,
           158475,
           275750,
           492265,
           0,
           0,
           3950735,
           170000,
           1219010,
           0,
           13769419,
           6592584,
           5331176,
           2702847,
           4449270,
           444320,
           10953671
          ],
          [
           0,
           0,
           0,
           5196319,
           98689445,
           0,
           91636,
           910756,
           16879797,
           7127169,
           2267016,
           1076017,
           7658300,
           14940476,
           37302582,
           3950000,
           175000,
           1089945,
           3551891,
           130000,
           161000,
           0,
           0,
           687528,
           45053,
           21938,
           3365,
           372301
          ],
          [
           0,
           0,
           0,
           0,
           0,
           0,
           0,
           0,
           0,
           0,
           0,
           0,
           0,
           0,
           4200,
           3691,
           460,
           0,
           8611716,
           2206929,
           190859,
           5427591,
           30348352,
           13553826,
           47114560,
           25458692,
           0,
           0
          ],
          [
           0,
           0,
           0,
           0,
           0,
           0,
           0,
           0,
           0,
           0,
           0,
           0,
           0,
           0,
           0,
           0,
           0,
           0,
           0,
           3775000,
           7400685,
           115463,
           4670466,
           0,
           13998000,
           28323657,
           27228357,
           42455390
          ],
          [
           0,
           40735428,
           53603776,
           0,
           0,
           0,
           0,
           0,
           10003765,
           0,
           0,
           0,
           0,
           0,
           0,
           0,
           0,
           0,
           0,
           7339559,
           6931426,
           5351539,
           928664,
           0,
           0,
           0,
           0,
           0
          ],
          [
           41645099,
           75446745,
           0,
           0,
           0,
           0,
           0,
           0,
           0,
           0,
           0,
           0,
           0,
           0,
           0,
           0,
           0,
           0,
           0,
           0,
           0,
           0,
           0,
           0,
           0,
           0,
           0,
           0
          ]
         ]
        }
       ],
       "layout": {
        "autosize": true,
        "template": {
         "data": {
          "bar": [
           {
            "error_x": {
             "color": "#f2f5fa"
            },
            "error_y": {
             "color": "#f2f5fa"
            },
            "marker": {
             "line": {
              "color": "rgb(17,17,17)",
              "width": 0.5
             },
             "pattern": {
              "fillmode": "overlay",
              "size": 10,
              "solidity": 0.2
             }
            },
            "type": "bar"
           }
          ],
          "barpolar": [
           {
            "marker": {
             "line": {
              "color": "rgb(17,17,17)",
              "width": 0.5
             },
             "pattern": {
              "fillmode": "overlay",
              "size": 10,
              "solidity": 0.2
             }
            },
            "type": "barpolar"
           }
          ],
          "carpet": [
           {
            "aaxis": {
             "endlinecolor": "#A2B1C6",
             "gridcolor": "#506784",
             "linecolor": "#506784",
             "minorgridcolor": "#506784",
             "startlinecolor": "#A2B1C6"
            },
            "baxis": {
             "endlinecolor": "#A2B1C6",
             "gridcolor": "#506784",
             "linecolor": "#506784",
             "minorgridcolor": "#506784",
             "startlinecolor": "#A2B1C6"
            },
            "type": "carpet"
           }
          ],
          "choropleth": [
           {
            "colorbar": {
             "outlinewidth": 0,
             "ticks": ""
            },
            "type": "choropleth"
           }
          ],
          "contour": [
           {
            "colorbar": {
             "outlinewidth": 0,
             "ticks": ""
            },
            "colorscale": [
             [
              0,
              "#0d0887"
             ],
             [
              0.1111111111111111,
              "#46039f"
             ],
             [
              0.2222222222222222,
              "#7201a8"
             ],
             [
              0.3333333333333333,
              "#9c179e"
             ],
             [
              0.4444444444444444,
              "#bd3786"
             ],
             [
              0.5555555555555556,
              "#d8576b"
             ],
             [
              0.6666666666666666,
              "#ed7953"
             ],
             [
              0.7777777777777778,
              "#fb9f3a"
             ],
             [
              0.8888888888888888,
              "#fdca26"
             ],
             [
              1,
              "#f0f921"
             ]
            ],
            "type": "contour"
           }
          ],
          "contourcarpet": [
           {
            "colorbar": {
             "outlinewidth": 0,
             "ticks": ""
            },
            "type": "contourcarpet"
           }
          ],
          "heatmap": [
           {
            "colorbar": {
             "outlinewidth": 0,
             "ticks": ""
            },
            "colorscale": [
             [
              0,
              "#0d0887"
             ],
             [
              0.1111111111111111,
              "#46039f"
             ],
             [
              0.2222222222222222,
              "#7201a8"
             ],
             [
              0.3333333333333333,
              "#9c179e"
             ],
             [
              0.4444444444444444,
              "#bd3786"
             ],
             [
              0.5555555555555556,
              "#d8576b"
             ],
             [
              0.6666666666666666,
              "#ed7953"
             ],
             [
              0.7777777777777778,
              "#fb9f3a"
             ],
             [
              0.8888888888888888,
              "#fdca26"
             ],
             [
              1,
              "#f0f921"
             ]
            ],
            "type": "heatmap"
           }
          ],
          "heatmapgl": [
           {
            "colorbar": {
             "outlinewidth": 0,
             "ticks": ""
            },
            "colorscale": [
             [
              0,
              "#0d0887"
             ],
             [
              0.1111111111111111,
              "#46039f"
             ],
             [
              0.2222222222222222,
              "#7201a8"
             ],
             [
              0.3333333333333333,
              "#9c179e"
             ],
             [
              0.4444444444444444,
              "#bd3786"
             ],
             [
              0.5555555555555556,
              "#d8576b"
             ],
             [
              0.6666666666666666,
              "#ed7953"
             ],
             [
              0.7777777777777778,
              "#fb9f3a"
             ],
             [
              0.8888888888888888,
              "#fdca26"
             ],
             [
              1,
              "#f0f921"
             ]
            ],
            "type": "heatmapgl"
           }
          ],
          "histogram": [
           {
            "marker": {
             "pattern": {
              "fillmode": "overlay",
              "size": 10,
              "solidity": 0.2
             }
            },
            "type": "histogram"
           }
          ],
          "histogram2d": [
           {
            "colorbar": {
             "outlinewidth": 0,
             "ticks": ""
            },
            "colorscale": [
             [
              0,
              "#0d0887"
             ],
             [
              0.1111111111111111,
              "#46039f"
             ],
             [
              0.2222222222222222,
              "#7201a8"
             ],
             [
              0.3333333333333333,
              "#9c179e"
             ],
             [
              0.4444444444444444,
              "#bd3786"
             ],
             [
              0.5555555555555556,
              "#d8576b"
             ],
             [
              0.6666666666666666,
              "#ed7953"
             ],
             [
              0.7777777777777778,
              "#fb9f3a"
             ],
             [
              0.8888888888888888,
              "#fdca26"
             ],
             [
              1,
              "#f0f921"
             ]
            ],
            "type": "histogram2d"
           }
          ],
          "histogram2dcontour": [
           {
            "colorbar": {
             "outlinewidth": 0,
             "ticks": ""
            },
            "colorscale": [
             [
              0,
              "#0d0887"
             ],
             [
              0.1111111111111111,
              "#46039f"
             ],
             [
              0.2222222222222222,
              "#7201a8"
             ],
             [
              0.3333333333333333,
              "#9c179e"
             ],
             [
              0.4444444444444444,
              "#bd3786"
             ],
             [
              0.5555555555555556,
              "#d8576b"
             ],
             [
              0.6666666666666666,
              "#ed7953"
             ],
             [
              0.7777777777777778,
              "#fb9f3a"
             ],
             [
              0.8888888888888888,
              "#fdca26"
             ],
             [
              1,
              "#f0f921"
             ]
            ],
            "type": "histogram2dcontour"
           }
          ],
          "mesh3d": [
           {
            "colorbar": {
             "outlinewidth": 0,
             "ticks": ""
            },
            "type": "mesh3d"
           }
          ],
          "parcoords": [
           {
            "line": {
             "colorbar": {
              "outlinewidth": 0,
              "ticks": ""
             }
            },
            "type": "parcoords"
           }
          ],
          "pie": [
           {
            "automargin": true,
            "type": "pie"
           }
          ],
          "scatter": [
           {
            "marker": {
             "line": {
              "color": "#283442"
             }
            },
            "type": "scatter"
           }
          ],
          "scatter3d": [
           {
            "line": {
             "colorbar": {
              "outlinewidth": 0,
              "ticks": ""
             }
            },
            "marker": {
             "colorbar": {
              "outlinewidth": 0,
              "ticks": ""
             }
            },
            "type": "scatter3d"
           }
          ],
          "scattercarpet": [
           {
            "marker": {
             "colorbar": {
              "outlinewidth": 0,
              "ticks": ""
             }
            },
            "type": "scattercarpet"
           }
          ],
          "scattergeo": [
           {
            "marker": {
             "colorbar": {
              "outlinewidth": 0,
              "ticks": ""
             }
            },
            "type": "scattergeo"
           }
          ],
          "scattergl": [
           {
            "marker": {
             "line": {
              "color": "#283442"
             }
            },
            "type": "scattergl"
           }
          ],
          "scattermapbox": [
           {
            "marker": {
             "colorbar": {
              "outlinewidth": 0,
              "ticks": ""
             }
            },
            "type": "scattermapbox"
           }
          ],
          "scatterpolar": [
           {
            "marker": {
             "colorbar": {
              "outlinewidth": 0,
              "ticks": ""
             }
            },
            "type": "scatterpolar"
           }
          ],
          "scatterpolargl": [
           {
            "marker": {
             "colorbar": {
              "outlinewidth": 0,
              "ticks": ""
             }
            },
            "type": "scatterpolargl"
           }
          ],
          "scatterternary": [
           {
            "marker": {
             "colorbar": {
              "outlinewidth": 0,
              "ticks": ""
             }
            },
            "type": "scatterternary"
           }
          ],
          "surface": [
           {
            "colorbar": {
             "outlinewidth": 0,
             "ticks": ""
            },
            "colorscale": [
             [
              0,
              "#0d0887"
             ],
             [
              0.1111111111111111,
              "#46039f"
             ],
             [
              0.2222222222222222,
              "#7201a8"
             ],
             [
              0.3333333333333333,
              "#9c179e"
             ],
             [
              0.4444444444444444,
              "#bd3786"
             ],
             [
              0.5555555555555556,
              "#d8576b"
             ],
             [
              0.6666666666666666,
              "#ed7953"
             ],
             [
              0.7777777777777778,
              "#fb9f3a"
             ],
             [
              0.8888888888888888,
              "#fdca26"
             ],
             [
              1,
              "#f0f921"
             ]
            ],
            "type": "surface"
           }
          ],
          "table": [
           {
            "cells": {
             "fill": {
              "color": "#506784"
             },
             "line": {
              "color": "rgb(17,17,17)"
             }
            },
            "header": {
             "fill": {
              "color": "#2a3f5f"
             },
             "line": {
              "color": "rgb(17,17,17)"
             }
            },
            "type": "table"
           }
          ]
         },
         "layout": {
          "annotationdefaults": {
           "arrowcolor": "#f2f5fa",
           "arrowhead": 0,
           "arrowwidth": 1
          },
          "autotypenumbers": "strict",
          "coloraxis": {
           "colorbar": {
            "outlinewidth": 0,
            "ticks": ""
           }
          },
          "colorscale": {
           "diverging": [
            [
             0,
             "#8e0152"
            ],
            [
             0.1,
             "#c51b7d"
            ],
            [
             0.2,
             "#de77ae"
            ],
            [
             0.3,
             "#f1b6da"
            ],
            [
             0.4,
             "#fde0ef"
            ],
            [
             0.5,
             "#f7f7f7"
            ],
            [
             0.6,
             "#e6f5d0"
            ],
            [
             0.7,
             "#b8e186"
            ],
            [
             0.8,
             "#7fbc41"
            ],
            [
             0.9,
             "#4d9221"
            ],
            [
             1,
             "#276419"
            ]
           ],
           "sequential": [
            [
             0,
             "#0d0887"
            ],
            [
             0.1111111111111111,
             "#46039f"
            ],
            [
             0.2222222222222222,
             "#7201a8"
            ],
            [
             0.3333333333333333,
             "#9c179e"
            ],
            [
             0.4444444444444444,
             "#bd3786"
            ],
            [
             0.5555555555555556,
             "#d8576b"
            ],
            [
             0.6666666666666666,
             "#ed7953"
            ],
            [
             0.7777777777777778,
             "#fb9f3a"
            ],
            [
             0.8888888888888888,
             "#fdca26"
            ],
            [
             1,
             "#f0f921"
            ]
           ],
           "sequentialminus": [
            [
             0,
             "#0d0887"
            ],
            [
             0.1111111111111111,
             "#46039f"
            ],
            [
             0.2222222222222222,
             "#7201a8"
            ],
            [
             0.3333333333333333,
             "#9c179e"
            ],
            [
             0.4444444444444444,
             "#bd3786"
            ],
            [
             0.5555555555555556,
             "#d8576b"
            ],
            [
             0.6666666666666666,
             "#ed7953"
            ],
            [
             0.7777777777777778,
             "#fb9f3a"
            ],
            [
             0.8888888888888888,
             "#fdca26"
            ],
            [
             1,
             "#f0f921"
            ]
           ]
          },
          "colorway": [
           "#636efa",
           "#EF553B",
           "#00cc96",
           "#ab63fa",
           "#FFA15A",
           "#19d3f3",
           "#FF6692",
           "#B6E880",
           "#FF97FF",
           "#FECB52"
          ],
          "font": {
           "color": "#f2f5fa"
          },
          "geo": {
           "bgcolor": "rgb(17,17,17)",
           "lakecolor": "rgb(17,17,17)",
           "landcolor": "rgb(17,17,17)",
           "showlakes": true,
           "showland": true,
           "subunitcolor": "#506784"
          },
          "hoverlabel": {
           "align": "left"
          },
          "hovermode": "closest",
          "mapbox": {
           "style": "dark"
          },
          "paper_bgcolor": "rgb(17,17,17)",
          "plot_bgcolor": "rgb(17,17,17)",
          "polar": {
           "angularaxis": {
            "gridcolor": "#506784",
            "linecolor": "#506784",
            "ticks": ""
           },
           "bgcolor": "rgb(17,17,17)",
           "radialaxis": {
            "gridcolor": "#506784",
            "linecolor": "#506784",
            "ticks": ""
           }
          },
          "scene": {
           "xaxis": {
            "backgroundcolor": "rgb(17,17,17)",
            "gridcolor": "#506784",
            "gridwidth": 2,
            "linecolor": "#506784",
            "showbackground": true,
            "ticks": "",
            "zerolinecolor": "#C8D4E3"
           },
           "yaxis": {
            "backgroundcolor": "rgb(17,17,17)",
            "gridcolor": "#506784",
            "gridwidth": 2,
            "linecolor": "#506784",
            "showbackground": true,
            "ticks": "",
            "zerolinecolor": "#C8D4E3"
           },
           "zaxis": {
            "backgroundcolor": "rgb(17,17,17)",
            "gridcolor": "#506784",
            "gridwidth": 2,
            "linecolor": "#506784",
            "showbackground": true,
            "ticks": "",
            "zerolinecolor": "#C8D4E3"
           }
          },
          "shapedefaults": {
           "line": {
            "color": "#f2f5fa"
           }
          },
          "sliderdefaults": {
           "bgcolor": "#C8D4E3",
           "bordercolor": "rgb(17,17,17)",
           "borderwidth": 1,
           "tickwidth": 0
          },
          "ternary": {
           "aaxis": {
            "gridcolor": "#506784",
            "linecolor": "#506784",
            "ticks": ""
           },
           "baxis": {
            "gridcolor": "#506784",
            "linecolor": "#506784",
            "ticks": ""
           },
           "bgcolor": "rgb(17,17,17)",
           "caxis": {
            "gridcolor": "#506784",
            "linecolor": "#506784",
            "ticks": ""
           }
          },
          "title": {
           "x": 0.05
          },
          "updatemenudefaults": {
           "bgcolor": "#506784",
           "borderwidth": 0
          },
          "xaxis": {
           "automargin": true,
           "gridcolor": "#283442",
           "linecolor": "#506784",
           "ticks": "",
           "title": {
            "standoff": 15
           },
           "zerolinecolor": "#283442",
           "zerolinewidth": 2
          },
          "yaxis": {
           "automargin": true,
           "gridcolor": "#283442",
           "linecolor": "#506784",
           "ticks": "",
           "title": {
            "standoff": 15
           },
           "zerolinecolor": "#283442",
           "zerolinewidth": 2
          }
         }
        },
        "title": {
         "text": "Total Box Office Gross by Ticker and Year (Top 20)"
        },
        "xaxis": {
         "autorange": true,
         "range": [
          1996.5,
          2024.5
         ],
         "tickangle": 45,
         "title": {
          "text": "Year"
         },
         "type": "linear"
        },
        "yaxis": {
         "autorange": true,
         "range": [
          14.5,
          -0.5
         ],
         "tickfont": {
          "size": 10
         },
         "title": {
          "text": "Ticker"
         },
         "type": "category"
        }
       }
      },
      "image/png": "[encoded data removed]",
      "text/html": [
       "<div>                            <div id=\"fdd44f6f-f78c-4ced-92c2-1ed5d4182906\" class=\"plotly-graph-div\" style=\"height:800px; width:100%;\"></div>            <script type=\"text/javascript\">                require([\"plotly\"], function(Plotly) {                    window.PLOTLYENV=window.PLOTLYENV || {};                                    if (document.getElementById(\"fdd44f6f-f78c-4ced-92c2-1ed5d4182906\")) {                    Plotly.newPlot(                        \"fdd44f6f-f78c-4ced-92c2-1ed5d4182906\",                        [{\"colorbar\":{\"title\":{\"text\":\"Gross\"}},\"colorscale\":[[0.0,\"#440154\"],[0.1111111111111111,\"#482878\"],[0.2222222222222222,\"#3e4989\"],[0.3333333333333333,\"#31688e\"],[0.4444444444444444,\"#26828e\"],[0.5555555555555556,\"#1f9e89\"],[0.6666666666666666,\"#35b779\"],[0.7777777777777778,\"#6ece58\"],[0.8888888888888888,\"#b5de2b\"],[1.0,\"#fde725\"]],\"hovertemplate\":\"Ticker: %{y}\\u003cbr\\u003eYear: %{x}\\u003cbr\\u003eGross: $%{z:.2f}M\\u003cextra\\u003e\\u003c\\u002fextra\\u003e\",\"x\":[1997,1998,1999,2000,2001,2002,2003,2004,2005,2006,2007,2008,2009,2010,2011,2012,2013,2014,2015,2016,2017,2018,2019,2020,2021,2022,2023,2024],\"y\":[\"WBD\",\"CMCSA\",\"SONY\",\"PARA\",\"DIS\",\"LGF.A\",\"Private\",\"AMZN\",\"EMWPF\",\"AMCX\",\"6758\",\"NYSE\",\"RGC\",\"SNE\",\"SIE\"],\"z\":[[491584161,1069516246,1286004980,1135188955,1663353554,1783503907,1937375715,1466760745,1716109309,1147205869,1736938476,1810333272,2122003326,1949639763,1863503250,1698546176,1859337944,1572924463,1620211109,1970743102,2093701003,1958904213,1612048058,155172206,321611969,978196794,1419216172,805626291],[146557511,328464645,919614998,1027965393,968442333,803197149,998210763,821363865,919030307,728274968,1022278055,1051842802,890313621,885189003,1166730233,1344934999,1666010840,1153384372,2507782302,1461251362,1560059220,1816525006,1328753177,405772661,666668006,1578020502,1821852954,1076100620],[669444565,597416804,551356930,598333934,630236119,1485872753,1083669964,1235598258,829525453,1592081642,1153528593,1233158950,1416821278,1277591128,1269460860,1547046368,1105581653,1336327111,994901096,947898534,1104631983,1324207348,1390614868,483795698,1129152584,882479370,1014072473,641724899],[570012099,1293957780,1020987586,1089083273,1330873064,849835797,1109709732,882366347,1064657690,919449446,1599895862,1711960162,1609314973,1846622275,2038966841,1015009479,1039374886,1086389988,759970935,892489535,548602578,816379251,580206157,184092257,282367688,1333965376,871447708,421188863],[219047590,636846175,740577901,659790665,765049042,906362694,698228143,834893716,1297966747,1335800542,1016666391,1013845667,1398698702,1487043520,985164468,1033936501,1082708961,1826726308,1325164944,1510432964,1357880698,1114546358,483730493,168823006,249073818,663689272,438769000,242303073],[7421055,9713801,199471496,63063376,21594946,42055000,46851500,249440443,235764413,287769572,325089589,644057721,898977630,1066781297,625776122,1307582157,1094509883,759553399,652501818,674616633,951758941,408862510,828011811,80466166,104644569,86557583,553518590,159128380],[13804360,8654560,25469622,44343207,7278785,4046719,153180,3708480,102727726,133380502,109770538,117382902,187353327,67356326,512784424,642898264,938143986,636191586,506913960,409148322,460555385,376418875,239408140,125778640,97241472,216544730,387563933,267813700],[119405202,162809333,287150915,80307876,402101279,302072047,304529446,146242296,88384276,141378999,220284165,95568229,21898284,50270352,0,0,0,0,2570882,82149,0,167777647,26225952,0,0,0,41562178,96567106],[0,0,0,0,0,0,0,0,0,0,0,0,0,0,0,0,0,0,64027887,198389898,209467004,272458897,333102752,51016697,1312024,0,0,0],[0,0,0,0,0,174303876,440000,70042,130347,638333,90492,52937,158475,275750,492265,0,0,3950735,170000,1219010,0,13769419,6592584,5331176,2702847,4449270,444320,10953671],[0,0,0,5196319,98689445,0,91636,910756,16879797,7127169,2267016,1076017,7658300,14940476,37302582,3950000,175000,1089945,3551891,130000,161000,0,0,687528,45053,21938,3365,372301],[0,0,0,0,0,0,0,0,0,0,0,0,0,0,4200,3691,460,0,8611716,2206929,190859,5427591,30348352,13553826,47114560,25458692,0,0],[0,0,0,0,0,0,0,0,0,0,0,0,0,0,0,0,0,0,0,3775000,7400685,115463,4670466,0,13998000,28323657,27228357,42455390],[0,40735428,53603776,0,0,0,0,0,10003765,0,0,0,0,0,0,0,0,0,0,7339559,6931426,5351539,928664,0,0,0,0,0],[41645099,75446745,0,0,0,0,0,0,0,0,0,0,0,0,0,0,0,0,0,0,0,0,0,0,0,0,0,0]],\"type\":\"heatmap\"}],                        {\"template\":{\"data\":{\"histogram2dcontour\":[{\"type\":\"histogram2dcontour\",\"colorbar\":{\"outlinewidth\":0,\"ticks\":\"\"},\"colorscale\":[[0.0,\"#0d0887\"],[0.1111111111111111,\"#46039f\"],[0.2222222222222222,\"#7201a8\"],[0.3333333333333333,\"#9c179e\"],[0.4444444444444444,\"#bd3786\"],[0.5555555555555556,\"#d8576b\"],[0.6666666666666666,\"#ed7953\"],[0.7777777777777778,\"#fb9f3a\"],[0.8888888888888888,\"#fdca26\"],[1.0,\"#f0f921\"]]}],\"choropleth\":[{\"type\":\"choropleth\",\"colorbar\":{\"outlinewidth\":0,\"ticks\":\"\"}}],\"histogram2d\":[{\"type\":\"histogram2d\",\"colorbar\":{\"outlinewidth\":0,\"ticks\":\"\"},\"colorscale\":[[0.0,\"#0d0887\"],[0.1111111111111111,\"#46039f\"],[0.2222222222222222,\"#7201a8\"],[0.3333333333333333,\"#9c179e\"],[0.4444444444444444,\"#bd3786\"],[0.5555555555555556,\"#d8576b\"],[0.6666666666666666,\"#ed7953\"],[0.7777777777777778,\"#fb9f3a\"],[0.8888888888888888,\"#fdca26\"],[1.0,\"#f0f921\"]]}],\"heatmap\":[{\"type\":\"heatmap\",\"colorbar\":{\"outlinewidth\":0,\"ticks\":\"\"},\"colorscale\":[[0.0,\"#0d0887\"],[0.1111111111111111,\"#46039f\"],[0.2222222222222222,\"#7201a8\"],[0.3333333333333333,\"#9c179e\"],[0.4444444444444444,\"#bd3786\"],[0.5555555555555556,\"#d8576b\"],[0.6666666666666666,\"#ed7953\"],[0.7777777777777778,\"#fb9f3a\"],[0.8888888888888888,\"#fdca26\"],[1.0,\"#f0f921\"]]}],\"heatmapgl\":[{\"type\":\"heatmapgl\",\"colorbar\":{\"outlinewidth\":0,\"ticks\":\"\"},\"colorscale\":[[0.0,\"#0d0887\"],[0.1111111111111111,\"#46039f\"],[0.2222222222222222,\"#7201a8\"],[0.3333333333333333,\"#9c179e\"],[0.4444444444444444,\"#bd3786\"],[0.5555555555555556,\"#d8576b\"],[0.6666666666666666,\"#ed7953\"],[0.7777777777777778,\"#fb9f3a\"],[0.8888888888888888,\"#fdca26\"],[1.0,\"#f0f921\"]]}],\"contourcarpet\":[{\"type\":\"contourcarpet\",\"colorbar\":{\"outlinewidth\":0,\"ticks\":\"\"}}],\"contour\":[{\"type\":\"contour\",\"colorbar\":{\"outlinewidth\":0,\"ticks\":\"\"},\"colorscale\":[[0.0,\"#0d0887\"],[0.1111111111111111,\"#46039f\"],[0.2222222222222222,\"#7201a8\"],[0.3333333333333333,\"#9c179e\"],[0.4444444444444444,\"#bd3786\"],[0.5555555555555556,\"#d8576b\"],[0.6666666666666666,\"#ed7953\"],[0.7777777777777778,\"#fb9f3a\"],[0.8888888888888888,\"#fdca26\"],[1.0,\"#f0f921\"]]}],\"surface\":[{\"type\":\"surface\",\"colorbar\":{\"outlinewidth\":0,\"ticks\":\"\"},\"colorscale\":[[0.0,\"#0d0887\"],[0.1111111111111111,\"#46039f\"],[0.2222222222222222,\"#7201a8\"],[0.3333333333333333,\"#9c179e\"],[0.4444444444444444,\"#bd3786\"],[0.5555555555555556,\"#d8576b\"],[0.6666666666666666,\"#ed7953\"],[0.7777777777777778,\"#fb9f3a\"],[0.8888888888888888,\"#fdca26\"],[1.0,\"#f0f921\"]]}],\"mesh3d\":[{\"type\":\"mesh3d\",\"colorbar\":{\"outlinewidth\":0,\"ticks\":\"\"}}],\"scatter\":[{\"marker\":{\"line\":{\"color\":\"#283442\"}},\"type\":\"scatter\"}],\"parcoords\":[{\"type\":\"parcoords\",\"line\":{\"colorbar\":{\"outlinewidth\":0,\"ticks\":\"\"}}}],\"scatterpolargl\":[{\"type\":\"scatterpolargl\",\"marker\":{\"colorbar\":{\"outlinewidth\":0,\"ticks\":\"\"}}}],\"bar\":[{\"error_x\":{\"color\":\"#f2f5fa\"},\"error_y\":{\"color\":\"#f2f5fa\"},\"marker\":{\"line\":{\"color\":\"rgb(17,17,17)\",\"width\":0.5},\"pattern\":{\"fillmode\":\"overlay\",\"size\":10,\"solidity\":0.2}},\"type\":\"bar\"}],\"scattergeo\":[{\"type\":\"scattergeo\",\"marker\":{\"colorbar\":{\"outlinewidth\":0,\"ticks\":\"\"}}}],\"scatterpolar\":[{\"type\":\"scatterpolar\",\"marker\":{\"colorbar\":{\"outlinewidth\":0,\"ticks\":\"\"}}}],\"histogram\":[{\"marker\":{\"pattern\":{\"fillmode\":\"overlay\",\"size\":10,\"solidity\":0.2}},\"type\":\"histogram\"}],\"scattergl\":[{\"marker\":{\"line\":{\"color\":\"#283442\"}},\"type\":\"scattergl\"}],\"scatter3d\":[{\"type\":\"scatter3d\",\"line\":{\"colorbar\":{\"outlinewidth\":0,\"ticks\":\"\"}},\"marker\":{\"colorbar\":{\"outlinewidth\":0,\"ticks\":\"\"}}}],\"scattermapbox\":[{\"type\":\"scattermapbox\",\"marker\":{\"colorbar\":{\"outlinewidth\":0,\"ticks\":\"\"}}}],\"scatterternary\":[{\"type\":\"scatterternary\",\"marker\":{\"colorbar\":{\"outlinewidth\":0,\"ticks\":\"\"}}}],\"scattercarpet\":[{\"type\":\"scattercarpet\",\"marker\":{\"colorbar\":{\"outlinewidth\":0,\"ticks\":\"\"}}}],\"carpet\":[{\"aaxis\":{\"endlinecolor\":\"#A2B1C6\",\"gridcolor\":\"#506784\",\"linecolor\":\"#506784\",\"minorgridcolor\":\"#506784\",\"startlinecolor\":\"#A2B1C6\"},\"baxis\":{\"endlinecolor\":\"#A2B1C6\",\"gridcolor\":\"#506784\",\"linecolor\":\"#506784\",\"minorgridcolor\":\"#506784\",\"startlinecolor\":\"#A2B1C6\"},\"type\":\"carpet\"}],\"table\":[{\"cells\":{\"fill\":{\"color\":\"#506784\"},\"line\":{\"color\":\"rgb(17,17,17)\"}},\"header\":{\"fill\":{\"color\":\"#2a3f5f\"},\"line\":{\"color\":\"rgb(17,17,17)\"}},\"type\":\"table\"}],\"barpolar\":[{\"marker\":{\"line\":{\"color\":\"rgb(17,17,17)\",\"width\":0.5},\"pattern\":{\"fillmode\":\"overlay\",\"size\":10,\"solidity\":0.2}},\"type\":\"barpolar\"}],\"pie\":[{\"automargin\":true,\"type\":\"pie\"}]},\"layout\":{\"autotypenumbers\":\"strict\",\"colorway\":[\"#636efa\",\"#EF553B\",\"#00cc96\",\"#ab63fa\",\"#FFA15A\",\"#19d3f3\",\"#FF6692\",\"#B6E880\",\"#FF97FF\",\"#FECB52\"],\"font\":{\"color\":\"#f2f5fa\"},\"hovermode\":\"closest\",\"hoverlabel\":{\"align\":\"left\"},\"paper_bgcolor\":\"rgb(17,17,17)\",\"plot_bgcolor\":\"rgb(17,17,17)\",\"polar\":{\"bgcolor\":\"rgb(17,17,17)\",\"angularaxis\":{\"gridcolor\":\"#506784\",\"linecolor\":\"#506784\",\"ticks\":\"\"},\"radialaxis\":{\"gridcolor\":\"#506784\",\"linecolor\":\"#506784\",\"ticks\":\"\"}},\"ternary\":{\"bgcolor\":\"rgb(17,17,17)\",\"aaxis\":{\"gridcolor\":\"#506784\",\"linecolor\":\"#506784\",\"ticks\":\"\"},\"baxis\":{\"gridcolor\":\"#506784\",\"linecolor\":\"#506784\",\"ticks\":\"\"},\"caxis\":{\"gridcolor\":\"#506784\",\"linecolor\":\"#506784\",\"ticks\":\"\"}},\"coloraxis\":{\"colorbar\":{\"outlinewidth\":0,\"ticks\":\"\"}},\"colorscale\":{\"sequential\":[[0.0,\"#0d0887\"],[0.1111111111111111,\"#46039f\"],[0.2222222222222222,\"#7201a8\"],[0.3333333333333333,\"#9c179e\"],[0.4444444444444444,\"#bd3786\"],[0.5555555555555556,\"#d8576b\"],[0.6666666666666666,\"#ed7953\"],[0.7777777777777778,\"#fb9f3a\"],[0.8888888888888888,\"#fdca26\"],[1.0,\"#f0f921\"]],\"sequentialminus\":[[0.0,\"#0d0887\"],[0.1111111111111111,\"#46039f\"],[0.2222222222222222,\"#7201a8\"],[0.3333333333333333,\"#9c179e\"],[0.4444444444444444,\"#bd3786\"],[0.5555555555555556,\"#d8576b\"],[0.6666666666666666,\"#ed7953\"],[0.7777777777777778,\"#fb9f3a\"],[0.8888888888888888,\"#fdca26\"],[1.0,\"#f0f921\"]],\"diverging\":[[0,\"#8e0152\"],[0.1,\"#c51b7d\"],[0.2,\"#de77ae\"],[0.3,\"#f1b6da\"],[0.4,\"#fde0ef\"],[0.5,\"#f7f7f7\"],[0.6,\"#e6f5d0\"],[0.7,\"#b8e186\"],[0.8,\"#7fbc41\"],[0.9,\"#4d9221\"],[1,\"#276419\"]]},\"xaxis\":{\"gridcolor\":\"#283442\",\"linecolor\":\"#506784\",\"ticks\":\"\",\"title\":{\"standoff\":15},\"zerolinecolor\":\"#283442\",\"automargin\":true,\"zerolinewidth\":2},\"yaxis\":{\"gridcolor\":\"#283442\",\"linecolor\":\"#506784\",\"ticks\":\"\",\"title\":{\"standoff\":15},\"zerolinecolor\":\"#283442\",\"automargin\":true,\"zerolinewidth\":2},\"scene\":{\"xaxis\":{\"backgroundcolor\":\"rgb(17,17,17)\",\"gridcolor\":\"#506784\",\"linecolor\":\"#506784\",\"showbackground\":true,\"ticks\":\"\",\"zerolinecolor\":\"#C8D4E3\",\"gridwidth\":2},\"yaxis\":{\"backgroundcolor\":\"rgb(17,17,17)\",\"gridcolor\":\"#506784\",\"linecolor\":\"#506784\",\"showbackground\":true,\"ticks\":\"\",\"zerolinecolor\":\"#C8D4E3\",\"gridwidth\":2},\"zaxis\":{\"backgroundcolor\":\"rgb(17,17,17)\",\"gridcolor\":\"#506784\",\"linecolor\":\"#506784\",\"showbackground\":true,\"ticks\":\"\",\"zerolinecolor\":\"#C8D4E3\",\"gridwidth\":2}},\"shapedefaults\":{\"line\":{\"color\":\"#f2f5fa\"}},\"annotationdefaults\":{\"arrowcolor\":\"#f2f5fa\",\"arrowhead\":0,\"arrowwidth\":1},\"geo\":{\"bgcolor\":\"rgb(17,17,17)\",\"landcolor\":\"rgb(17,17,17)\",\"subunitcolor\":\"#506784\",\"showland\":true,\"showlakes\":true,\"lakecolor\":\"rgb(17,17,17)\"},\"title\":{\"x\":0.05},\"updatemenudefaults\":{\"bgcolor\":\"#506784\",\"borderwidth\":0},\"sliderdefaults\":{\"bgcolor\":\"#C8D4E3\",\"borderwidth\":1,\"bordercolor\":\"rgb(17,17,17)\",\"tickwidth\":0},\"mapbox\":{\"style\":\"dark\"}}},\"yaxis\":{\"tickfont\":{\"size\":10},\"title\":{\"text\":\"Ticker\"},\"autorange\":\"reversed\"},\"xaxis\":{\"title\":{\"text\":\"Year\"},\"tickangle\":45},\"title\":{\"text\":\"Total Box Office Gross by Ticker and Year (Top 20)\"},\"height\":800},                        {\"responsive\": true}                    ).then(function(){\n",
       "                            \n",
       "var gd = document.getElementById('fdd44f6f-f78c-4ced-92c2-1ed5d4182906');\n",
       "var x = new MutationObserver(function (mutations, observer) {{\n",
       "        var display = window.getComputedStyle(gd).display;\n",
       "        if (!display || display === 'none') {{\n",
       "            console.log([gd, 'removed!']);\n",
       "            Plotly.purge(gd);\n",
       "            observer.disconnect();\n",
       "        }}\n",
       "}});\n",
       "\n",
       "// Listen for the removal of the full notebook cells\n",
       "var notebookContainer = gd.closest('#notebook-container');\n",
       "if (notebookContainer) {{\n",
       "    x.observe(notebookContainer, {childList: true});\n",
       "}}\n",
       "\n",
       "// Listen for the clearing of the current output cell\n",
       "var outputEl = gd.closest('.output');\n",
       "if (outputEl) {{\n",
       "    x.observe(outputEl, {childList: true});\n",
       "}}\n",
       "\n",
       "                        })                };                });            </script>        </div>"
      ]
     },
     "metadata": {},
     "output_type": "display_data"
    }
   ],
   "source": [
    "import pandas as pd\n",
    "import plotly.express as px\n",
    "import numpy as np\n",
    "import plotly.graph_objects as go\n",
    "\n",
    "df = df_movies.copy()\n",
    "# Extract the year from the 'date' column\n",
    "df = df.dropna(subset=[\"date\"])\n",
    "df['year'] = df['date'].dt.year\n",
    "\n",
    "# Group by ticker and year, summing the gross\n",
    "df_heatmap = df.groupby(['ticker', 'year'])['gross'].sum().reset_index()\n",
    "\n",
    "# Replace NaN and infinite values with 0\n",
    "df_heatmap['gross'] = df_heatmap['gross'].replace([np.inf, -np.inf, np.nan], 0)\n",
    "\n",
    "# Group by ticker and sum the total gross\n",
    "df_ticker_total = df_heatmap.groupby('ticker')['gross'].sum().reset_index()\n",
    "\n",
    "# Sort the tickers by total gross in descending order\n",
    "sorted_tickers = df_ticker_total.sort_values('gross', ascending=False)['ticker'].tolist()\n",
    "\n",
    "# Create the pivot table\n",
    "pivot_data = df_heatmap.pivot(index='ticker', columns='year', values='gross')\n",
    "\n",
    "# Fill NaN values with 0\n",
    "pivot_data = pivot_data.fillna(0)\n",
    "\n",
    "# Select top 20 tickers by total gross\n",
    "top_15_tickers = df_ticker_total.nlargest(15, 'gross')['ticker'].tolist()\n",
    "\n",
    "# Filter the pivot data for top 20 tickers\n",
    "pivot_data_top20 = pivot_data.loc[top_15_tickers]\n",
    "\n",
    "# Create the heatmap using Plotly Graph Objects for more customization\n",
    "fig = go.Figure(data=go.Heatmap(\n",
    "    z=pivot_data_top20.values,\n",
    "    x=pivot_data_top20.columns,\n",
    "    y=pivot_data_top20.index,\n",
    "    colorscale='Viridis',\n",
    "    colorbar=dict(title='Gross'),\n",
    "    hovertemplate='Ticker: %{y}<br>Year: %{x}<br>Gross: $%{z:.2f}M<extra></extra>'\n",
    "))\n",
    "\n",
    "fig.update_layout(\n",
    "    title='Total Box Office Gross by Ticker and Year (Top 20)',\n",
    "    xaxis_title='Year',\n",
    "    yaxis_title='Ticker',\n",
    "    yaxis_autorange='reversed',\n",
    "    height=800,\n",
    "    template='plotly_dark',\n",
    "    yaxis=dict(tickfont=dict(size=10)),\n",
    "    xaxis=dict(tickangle=45),\n",
    ")\n",
    "\n",
    "fig.show()"
   ]
  }
 ],
 "metadata": {
  "kernelspec": {
   "display_name": "Python 3 (ipykernel)",
   "language": "python",
   "name": "python3"
  },
  "language_info": {
   "codemirror_mode": {
    "name": "ipython",
    "version": 3
   },
   "file_extension": ".py",
   "mimetype": "text/x-python",
   "name": "python",
   "nbconvert_exporter": "python",
   "pygments_lexer": "ipython3",
   "version": "3.11.7"
  },
  "vscode": {
   "interpreter": {
    "hash": "b7bc88ef2312de8ccb6fe32ee45ed1b303064bae6342b11333199520ddc77aae"
   }
  }
 },
 "nbformat": 4,
 "nbformat_minor": 4
}
