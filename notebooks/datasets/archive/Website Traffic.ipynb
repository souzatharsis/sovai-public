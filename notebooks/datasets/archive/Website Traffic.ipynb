{
 "cells": [
  {
   "cell_type": "markdown",
   "metadata": {},
   "source": [
    "## Website Traffic"
   ]
  },
  {
   "cell_type": "code",
   "execution_count": 1,
   "metadata": {},
   "outputs": [],
   "source": [
    "%load_ext autoreload\n",
    "%autoreload 2"
   ]
  },
  {
   "cell_type": "code",
   "execution_count": 2,
   "metadata": {},
   "outputs": [
    {
     "name": "stdout",
     "output_type": "stream",
     "text": [
      "Requirement already satisfied: regex in /Users/dereksnow/Sovai/GitHub/SovAI/.venv/lib/python3.11/site-packages (2023.12.25)\n"
     ]
    }
   ],
   "source": [
    "!pip install regex"
   ]
  },
  {
   "cell_type": "code",
   "execution_count": 2,
   "metadata": {},
   "outputs": [],
   "source": [
    "import sovai as sov\n",
    "sov.token_auth(token=\"your_token_here\")"
   ]
  },
  {
   "cell_type": "code",
   "execution_count": 3,
   "metadata": {},
   "outputs": [
    {
     "name": "stdout",
     "output_type": "stream",
     "text": [
      "/website/trafficlast\n",
      "Requesting URL: https://data.sov.ai/website/trafficlast with params: {'domains': ['https://www.walmart.com', 'https://www.amazon.com', 'https://www.apple.com', 'https://www.cvshealth.com', 'https://www.unitedhealthgroup.com', 'https://corporate.exxonmobil.com', 'bestbuy.com', 'bedbathandbeyond.com'], 'parquet': 'True'}\n",
      "Response Status: 200\n",
      "Response Content-Type: application/json\n",
      "tickers is None\n",
      "{'domains': ['https://www.walmart.com', 'https://www.amazon.com', 'https://www.apple.com', 'https://www.cvshealth.com', 'https://www.unitedhealthgroup.com', 'https://corporate.exxonmobil.com', 'bestbuy.com', 'bedbathandbeyond.com'], 'parquet': 'True'}\n",
      "tickers is None\n",
      "It reached the DF\n",
      "It passed the DF\n"
     ]
    }
   ],
   "source": [
    "site_urls = [\"https://www.walmart.com\",\n",
    "\"https://www.amazon.com\",\n",
    "\"https://www.apple.com\",\n",
    "\"https://www.cvshealth.com\",\n",
    "\"https://www.unitedhealthgroup.com\",\n",
    "\"https://corporate.exxonmobil.com\",\n",
    "\"bestbuy.com\",\n",
    "\"bedbathandbeyond.com\"]\n",
    "\n",
    "\n",
    "df_traffic = sov.data(\"website/trafficlast\", params={\"domains\":site_urls},verbose=True)"
   ]
  }
 ],
 "metadata": {
  "kernelspec": {
   "display_name": "Python 3 (ipykernel)",
   "language": "python",
   "name": "python3"
  },
  "language_info": {
   "codemirror_mode": {
    "name": "ipython",
    "version": 3
   },
   "file_extension": ".py",
   "mimetype": "text/x-python",
   "name": "python",
   "nbconvert_exporter": "python",
   "pygments_lexer": "ipython3",
   "version": "3.11.7"
  },
  "vscode": {
   "interpreter": {
    "hash": "b7bc88ef2312de8ccb6fe32ee45ed1b303064bae6342b11333199520ddc77aae"
   }
  }
 },
 "nbformat": 4,
 "nbformat_minor": 4
}
