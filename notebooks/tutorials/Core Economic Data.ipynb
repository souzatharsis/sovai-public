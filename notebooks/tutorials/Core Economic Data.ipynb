{
 "cells": [
  {
   "cell_type": "markdown",
   "metadata": {},
   "source": [
    "## Core Economic Data"
   ]
  },
  {
   "cell_type": "code",
   "execution_count": 2,
   "metadata": {},
   "outputs": [],
   "source": [
    "### You can go back to the colab notebook, to realise there any many things to add. \n",
    "### The Colab notebook, still has to be put into the pipeline of things. "
   ]
  },
  {
   "cell_type": "code",
   "execution_count": 1,
   "metadata": {},
   "outputs": [],
   "source": [
    "%load_ext autoreload\n",
    "%autoreload 2"
   ]
  },
  {
   "cell_type": "code",
   "execution_count": 1,
   "metadata": {},
   "outputs": [],
   "source": [
    "import sovai as sov\n",
    "sov.token_auth(token=\"your_token\")"
   ]
  },
  {
   "cell_type": "markdown",
   "metadata": {},
   "source": [
    "#### Processed Dataset"
   ]
  },
  {
   "cell_type": "code",
   "execution_count": 8,
   "metadata": {},
   "outputs": [
    {
     "name": "stdout",
     "output_type": "stream",
     "text": [
      "/wikipedia/views\n",
      "Requesting URL: https://fastapi-sovai-y7o724zyfq-uc.a.run.app/wikipedia/views with params: {'tickers': 'MSFT,TSLA,AAPL,META', 'from_date': '2017-03-30T00:00:00'}\n",
      "Response Status: 200\n",
      "Response Content-Type: application/json\n",
      "tickers is: ['MSFT', 'TSLA', 'AAPL', 'META']\n",
      "{'tickers': 'MSFT,TSLA,AAPL,META', 'from_date': '2017-03-30T00:00:00'}\n",
      "tickers is: ['MSFT', 'TSLA', 'AAPL', 'META']\n",
      "It reached the DF\n",
      "It passsed the DF\n"
     ]
    }
   ],
   "source": [
    "df_macro = sov.data(\"macro/features\", start_date=\"2017-03-30\")"
   ]
  }
 ],
 "metadata": {
  "kernelspec": {
   "display_name": "Python 3 (ipykernel)",
   "language": "python",
   "name": "python3"
  },
  "language_info": {
   "codemirror_mode": {
    "name": "ipython",
    "version": 3
   },
   "file_extension": ".py",
   "mimetype": "text/x-python",
   "name": "python",
   "nbconvert_exporter": "python",
   "pygments_lexer": "ipython3",
   "version": "3.11.7"
  },
  "vscode": {
   "interpreter": {
    "hash": "b7bc88ef2312de8ccb6fe32ee45ed1b303064bae6342b11333199520ddc77aae"
   }
  }
 },
 "nbformat": 4,
 "nbformat_minor": 4
}
